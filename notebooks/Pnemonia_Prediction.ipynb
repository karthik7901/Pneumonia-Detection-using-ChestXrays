{
  "nbformat": 4,
  "nbformat_minor": 0,
  "metadata": {
    "colab": {
      "provenance": []
    },
    "kernelspec": {
      "name": "python3",
      "display_name": "Python 3"
    },
    "language_info": {
      "name": "python"
    }
  },
  "cells": [
    {
      "cell_type": "code",
      "execution_count": 7,
      "metadata": {
        "colab": {
          "base_uri": "https://localhost:8080/"
        },
        "id": "IsMV55RVQ9AG",
        "outputId": "cf4600a2-0e68-4203-ae84-338aa8993f43"
      },
      "outputs": [
        {
          "output_type": "stream",
          "name": "stdout",
          "text": [
            "Drive already mounted at /content/drive; to attempt to forcibly remount, call drive.mount(\"/content/drive\", force_remount=True).\n",
            "Using: cpu\n"
          ]
        }
      ],
      "source": [
        "import torch\n",
        "from torchvision import models, transforms\n",
        "from PIL import Image\n",
        "from google.colab import drive\n",
        "drive.mount('/content/drive')\n",
        "\n",
        "WEIGHTS_PATH = \"/content/drive/MyDrive/pneumonia_detection_vgg/best_vgg16.pth\"\n",
        "IMAGE_PATH = \"/content/drive/MyDrive/chest_xray/test/PNEUMONIA/person135_bacteria_646.jpeg\"\n",
        "\n",
        "ARCH = \"vgg16\"\n",
        "\n",
        "CLASS_NAMES = [\"NORMAL\", \"PNEUMONIA\"]\n",
        "\n",
        "DEVICE = \"cuda\" if torch.cuda.is_available() else \"cpu\"\n",
        "print(\"Using:\", DEVICE)\n"
      ]
    },
    {
      "cell_type": "code",
      "source": [
        "model = models.vgg16(weights=None)\n",
        "\n",
        "model.classifier[-1] = torch.nn.Linear(model.classifier[-1].in_features, len(CLASS_NAMES))\n",
        "\n",
        "state_dict = torch.load(WEIGHTS_PATH, map_location=DEVICE)\n",
        "model.load_state_dict(state_dict)\n",
        "model.to(DEVICE)\n",
        "model.eval()\n",
        "print(\" Model loaded and ready.\")\n"
      ],
      "metadata": {
        "colab": {
          "base_uri": "https://localhost:8080/"
        },
        "id": "wFn80tDgRgwE",
        "outputId": "b93b8a4c-0dca-4541-edfd-da50f7596595"
      },
      "execution_count": 5,
      "outputs": [
        {
          "output_type": "stream",
          "name": "stdout",
          "text": [
            " Model loaded and ready.\n"
          ]
        }
      ]
    },
    {
      "cell_type": "code",
      "source": [
        "\n",
        "tfms = transforms.Compose([\n",
        "    transforms.Resize((224, 224)),\n",
        "    transforms.ToTensor(),\n",
        "    transforms.Normalize(mean=[0.485, 0.456, 0.406],\n",
        "                         std=[0.229, 0.224, 0.225]),\n",
        "])\n",
        "\n",
        "img = Image.open(IMAGE_PATH).convert(\"RGB\")\n",
        "x = tfms(img).unsqueeze(0).to(DEVICE)\n",
        "\n",
        "with torch.no_grad():\n",
        "    outputs = model(x)\n",
        "    probs = torch.softmax(outputs, dim=1)[0].cpu().numpy()\n",
        "\n",
        "for cls, p in zip(CLASS_NAMES, probs):\n",
        "    print(f\"{cls}: {p:.3f}\")\n",
        "print(\"Predicted class:\", CLASS_NAMES[probs.argmax()])\n"
      ],
      "metadata": {
        "colab": {
          "base_uri": "https://localhost:8080/"
        },
        "id": "IxHmXep9RyCr",
        "outputId": "db3d08d2-284a-43f4-b251-90014a8a0843"
      },
      "execution_count": 8,
      "outputs": [
        {
          "output_type": "stream",
          "name": "stdout",
          "text": [
            "NORMAL: 0.008\n",
            "PNEUMONIA: 0.992\n",
            "Predicted class: PNEUMONIA\n"
          ]
        }
      ]
    },
    {
      "cell_type": "code",
      "source": [
        "import torch\n",
        "from torchvision import models, transforms\n",
        "from PIL import Image\n",
        "\n",
        "\n",
        "WEIGHTS_PATH = \"/content/drive/MyDrive/pneumonia_detection_resnet/best_resnet50.pth\"\n",
        "IMAGE_PATH = \"/content/drive/MyDrive/chest_xray/test/PNEUMONIA/person88_bacteria_437.jpeg\"\n",
        "\n",
        "ARCH = \"resnet50\"\n",
        "CLASS_NAMES = [\"NORMAL\", \"PNEUMONIA\"]\n",
        "\n",
        "DEVICE = \"cuda\" if torch.cuda.is_available() else \"cpu\"\n",
        "print(\"Using device:\", DEVICE)\n"
      ],
      "metadata": {
        "colab": {
          "base_uri": "https://localhost:8080/"
        },
        "id": "PRv0ueCWSLQV",
        "outputId": "0fee6d76-e7a3-4433-b5f2-ba9b6efdeeb6"
      },
      "execution_count": 21,
      "outputs": [
        {
          "output_type": "stream",
          "name": "stdout",
          "text": [
            "Using device: cpu\n"
          ]
        }
      ]
    },
    {
      "cell_type": "code",
      "source": [
        "model = models.resnet50(weights=None)\n",
        "\n",
        "model.fc = torch.nn.Linear(model.fc.in_features, len(CLASS_NAMES))\n",
        "\n",
        "state_dict = torch.load(WEIGHTS_PATH, map_location=DEVICE)\n",
        "model.load_state_dict(state_dict)\n",
        "model.to(DEVICE)\n",
        "model.eval()\n",
        "\n",
        "print(f\"Loaded {ARCH} model with weights from:\", WEIGHTS_PATH)\n"
      ],
      "metadata": {
        "colab": {
          "base_uri": "https://localhost:8080/"
        },
        "id": "0HxNTmWBS44F",
        "outputId": "6aa55629-45c4-4dae-de78-b4bf60cb24a6"
      },
      "execution_count": 22,
      "outputs": [
        {
          "output_type": "stream",
          "name": "stdout",
          "text": [
            "Loaded resnet50 model with weights from: /content/drive/MyDrive/pneumonia_detection_resnet/best_resnet50.pth\n"
          ]
        }
      ]
    },
    {
      "cell_type": "code",
      "source": [
        "tfms = transforms.Compose([\n",
        "    transforms.Resize((224, 224)),\n",
        "    transforms.ToTensor(),\n",
        "    transforms.Normalize(mean=[0.485, 0.456, 0.406],\n",
        "                         std=[0.229, 0.224, 0.225]),\n",
        "])\n",
        "img = Image.open(IMAGE_PATH).convert(\"RGB\")\n",
        "x = tfms(img).unsqueeze(0).to(DEVICE)\n",
        "with torch.no_grad():\n",
        "    outputs = model(x)\n",
        "    probs = torch.softmax(outputs, dim=1)[0].cpu().numpy()\n",
        "for cls, p in zip(CLASS_NAMES, probs):\n",
        "    print(f\"{cls}: {p:.3f}\")\n",
        "print(\"Predicted class:\", CLASS_NAMES[probs.argmax()])\n"
      ],
      "metadata": {
        "colab": {
          "base_uri": "https://localhost:8080/"
        },
        "id": "9ZzfFHklTJEs",
        "outputId": "565bc9f3-4bad-4129-9f98-856d55ef9810"
      },
      "execution_count": 23,
      "outputs": [
        {
          "output_type": "stream",
          "name": "stdout",
          "text": [
            "NORMAL: 0.006\n",
            "PNEUMONIA: 0.994\n",
            "Predicted class: PNEUMONIA\n"
          ]
        }
      ]
    },
    {
      "cell_type": "code",
      "source": [],
      "metadata": {
        "id": "HtuHT_RBT82n"
      },
      "execution_count": null,
      "outputs": []
    }
  ]
}