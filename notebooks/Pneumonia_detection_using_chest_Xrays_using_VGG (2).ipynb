{
  "cells": [
    {
      "cell_type": "code",
      "execution_count": 1,
      "metadata": {
        "colab": {
          "base_uri": "https://localhost:8080/"
        },
        "id": "yHFnBP0Sq9yX",
        "outputId": "2bcefcc7-2c18-4a47-e812-950c411db129"
      },
      "outputs": [
        {
          "output_type": "stream",
          "name": "stdout",
          "text": [
            "\u001b[2K   \u001b[90m━━━━━━━━━━━━━━━━━━━━━━━━━━━━━━━━━━━━━━━\u001b[0m \u001b[32m899.7/899.7 MB\u001b[0m \u001b[31m819.5 kB/s\u001b[0m eta \u001b[36m0:00:00\u001b[0m\n",
            "\u001b[2K   \u001b[90m━━━━━━━━━━━━━━━━━━━━━━━━━━━━━━━━━━━━━━━━\u001b[0m \u001b[32m594.3/594.3 MB\u001b[0m \u001b[31m3.2 MB/s\u001b[0m eta \u001b[36m0:00:00\u001b[0m\n",
            "\u001b[2K   \u001b[90m━━━━━━━━━━━━━━━━━━━━━━━━━━━━━━━━━━━━━━━━\u001b[0m \u001b[32m10.2/10.2 MB\u001b[0m \u001b[31m95.5 MB/s\u001b[0m eta \u001b[36m0:00:00\u001b[0m\n",
            "\u001b[2K   \u001b[90m━━━━━━━━━━━━━━━━━━━━━━━━━━━━━━━━━━━━━━━━\u001b[0m \u001b[32m88.0/88.0 MB\u001b[0m \u001b[31m9.1 MB/s\u001b[0m eta \u001b[36m0:00:00\u001b[0m\n",
            "\u001b[2K   \u001b[90m━━━━━━━━━━━━━━━━━━━━━━━━━━━━━━━━━━━━━━━━\u001b[0m \u001b[32m954.8/954.8 kB\u001b[0m \u001b[31m62.5 MB/s\u001b[0m eta \u001b[36m0:00:00\u001b[0m\n",
            "\u001b[2K   \u001b[90m━━━━━━━━━━━━━━━━━━━━━━━━━━━━━━━━━━━━━━━━\u001b[0m \u001b[32m193.1/193.1 MB\u001b[0m \u001b[31m6.8 MB/s\u001b[0m eta \u001b[36m0:00:00\u001b[0m\n",
            "\u001b[2K   \u001b[90m━━━━━━━━━━━━━━━━━━━━━━━━━━━━━━━━━━━━━━━━\u001b[0m \u001b[32m1.2/1.2 MB\u001b[0m \u001b[31m57.9 MB/s\u001b[0m eta \u001b[36m0:00:00\u001b[0m\n",
            "\u001b[2K   \u001b[90m━━━━━━━━━━━━━━━━━━━━━━━━━━━━━━━━━━━━━━━━\u001b[0m \u001b[32m63.6/63.6 MB\u001b[0m \u001b[31m12.9 MB/s\u001b[0m eta \u001b[36m0:00:00\u001b[0m\n",
            "\u001b[2K   \u001b[90m━━━━━━━━━━━━━━━━━━━━━━━━━━━━━━━━━━━━━━━━\u001b[0m \u001b[32m267.5/267.5 MB\u001b[0m \u001b[31m5.3 MB/s\u001b[0m eta \u001b[36m0:00:00\u001b[0m\n",
            "\u001b[2K   \u001b[90m━━━━━━━━━━━━━━━━━━━━━━━━━━━━━━━━━━━━━━━━\u001b[0m \u001b[32m288.2/288.2 MB\u001b[0m \u001b[31m1.5 MB/s\u001b[0m eta \u001b[36m0:00:00\u001b[0m\n",
            "\u001b[2K   \u001b[90m━━━━━━━━━━━━━━━━━━━━━━━━━━━━━━━━━━━━━━━━\u001b[0m \u001b[32m322.3/322.3 MB\u001b[0m \u001b[31m2.1 MB/s\u001b[0m eta \u001b[36m0:00:00\u001b[0m\n",
            "\u001b[2K   \u001b[90m━━━━━━━━━━━━━━━━━━━━━━━━━━━━━━━━━━━━━━━━\u001b[0m \u001b[32m39.3/39.3 MB\u001b[0m \u001b[31m19.6 MB/s\u001b[0m eta \u001b[36m0:00:00\u001b[0m\n",
            "\u001b[2K   \u001b[90m━━━━━━━━━━━━━━━━━━━━━━━━━━━━━━━━━━━━━━━━\u001b[0m \u001b[32m124.7/124.7 MB\u001b[0m \u001b[31m8.3 MB/s\u001b[0m eta \u001b[36m0:00:00\u001b[0m\n",
            "\u001b[2K   \u001b[90m━━━━━━━━━━━━━━━━━━━━━━━━━━━━━━━━━━━━━━━━\u001b[0m \u001b[32m90.0/90.0 kB\u001b[0m \u001b[31m10.2 MB/s\u001b[0m eta \u001b[36m0:00:00\u001b[0m\n",
            "\u001b[2K   \u001b[90m━━━━━━━━━━━━━━━━━━━━━━━━━━━━━━━━━━━━━━━━\u001b[0m \u001b[32m170.5/170.5 MB\u001b[0m \u001b[31m7.9 MB/s\u001b[0m eta \u001b[36m0:00:00\u001b[0m\n",
            "\u001b[2K   \u001b[90m━━━━━━━━━━━━━━━━━━━━━━━━━━━━━━━━━━━━━━━━\u001b[0m \u001b[32m8.1/8.1 MB\u001b[0m \u001b[31m75.9 MB/s\u001b[0m eta \u001b[36m0:00:00\u001b[0m\n",
            "\u001b[2K   \u001b[90m━━━━━━━━━━━━━━━━━━━━━━━━━━━━━━━━━━━━━━━━\u001b[0m \u001b[32m2.1/2.1 MB\u001b[0m \u001b[31m65.0 MB/s\u001b[0m eta \u001b[36m0:00:00\u001b[0m\n",
            "\u001b[?25h\u001b[31mERROR: pip's dependency resolver does not currently take into account all the packages that are installed. This behaviour is the source of the following dependency conflicts.\n",
            "fastai 2.8.4 requires torch<2.9,>=1.10, but you have torch 2.9.0 which is incompatible.\u001b[0m\u001b[31m\n",
            "\u001b[0m"
          ]
        }
      ],
      "source": [
        "\n",
        "!pip -q install torch torchvision torchaudio --upgrade\n",
        "!pip -q install scikit-learn matplotlib pillow tqdm\n"
      ]
    },
    {
      "cell_type": "code",
      "execution_count": 2,
      "metadata": {
        "colab": {
          "base_uri": "https://localhost:8080/"
        },
        "id": "-35iQiB_rSHY",
        "outputId": "1a6fed0d-50cc-4706-e6b1-d698c729851a"
      },
      "outputs": [
        {
          "output_type": "stream",
          "name": "stdout",
          "text": [
            "Mounted at /content/drive\n",
            "Drive dataset root: /content/drive/MyDrive/chest_xray\n"
          ]
        }
      ],
      "source": [
        "\n",
        "from google.colab import drive\n",
        "drive.mount('/content/drive')\n",
        "\n",
        "DATASET_DIR = \"/content/drive/MyDrive/chest_xray\"\n",
        "\n",
        "import os, glob, random, shutil\n",
        "assert os.path.exists(DATASET_DIR), f\"Path not found: {DATASET_DIR}\"\n",
        "print(\"Drive dataset root:\", DATASET_DIR)\n",
        "ROOT = DATASET_DIR"
      ]
    },
    {
      "cell_type": "code",
      "execution_count": 3,
      "metadata": {
        "colab": {
          "base_uri": "https://localhost:8080/"
        },
        "id": "ZiA0UrXssP2A",
        "outputId": "12558bac-2a23-47c7-9095-43f0499a7fa4"
      },
      "outputs": [
        {
          "output_type": "stream",
          "name": "stdout",
          "text": [
            "Using dataset root with splits: /content/drive/MyDrive/chest_xray\n",
            "/content/drive/MyDrive/chest_xray\n",
            "/content/drive/MyDrive/chest_xray/val\n",
            "/content/drive/MyDrive/chest_xray/val/NORMAL\n",
            "/content/drive/MyDrive/chest_xray/val/PNEUMONIA\n",
            "/content/drive/MyDrive/chest_xray/test\n",
            "/content/drive/MyDrive/chest_xray/test/NORMAL\n",
            "/content/drive/MyDrive/chest_xray/test/PNEUMONIA\n",
            "/content/drive/MyDrive/chest_xray/chest_xray\n",
            "/content/drive/MyDrive/chest_xray/chest_xray/val\n",
            "/content/drive/MyDrive/chest_xray/chest_xray/train\n",
            "/content/drive/MyDrive/chest_xray/chest_xray/test\n",
            "/content/drive/MyDrive/chest_xray/__MACOSX\n",
            "/content/drive/MyDrive/chest_xray/__MACOSX/chest_xray\n",
            "/content/drive/MyDrive/chest_xray/train\n",
            "/content/drive/MyDrive/chest_xray/train/NORMAL\n",
            "/content/drive/MyDrive/chest_xray/train/PNEUMONIA\n"
          ]
        }
      ],
      "source": [
        "import os, glob, random, shutil\n",
        "\n",
        "def has_split(root):\n",
        "    return all(os.path.isdir(os.path.join(root, s)) for s in [\"train\",\"val\",\"test\"])\n",
        "\n",
        "if not has_split(ROOT):\n",
        "    if all(os.path.isdir(os.path.join(ROOT, s)) for s in [\"train\",\"test\"]):\n",
        "        val_dir = os.path.join(ROOT, \"val\")\n",
        "        os.makedirs(val_dir, exist_ok=True)\n",
        "        for cls in os.listdir(os.path.join(ROOT, \"train\")):\n",
        "            src = os.path.join(ROOT, \"train\", cls)\n",
        "            dst = os.path.join(val_dir, cls)\n",
        "            os.makedirs(dst, exist_ok=True)\n",
        "            files = [f for f in glob.glob(os.path.join(src, \"*\")) if os.path.isfile(f)]\n",
        "            random.shuffle(files)\n",
        "            take = max(1, int(0.1*len(files)))\n",
        "            for f in files[:take]:\n",
        "                shutil.copy2(f, os.path.join(dst, os.path.basename(f)))\n",
        "        print(\"Created validation split on Drive (copied ~10% from train).\")\n",
        "    else:\n",
        "\n",
        "        classes = [d for d in os.listdir(ROOT) if os.path.isdir(os.path.join(ROOT, d))]\n",
        "        if classes:\n",
        "            print(\"Creating 80/10/10 split from flat class folders on Drive (copying files)...\")\n",
        "            split_root = os.path.join(ROOT, \"_split\")\n",
        "            for split in [\"train\",\"val\",\"test\"]:\n",
        "                for cls in classes:\n",
        "                    os.makedirs(os.path.join(split_root, split, cls), exist_ok=True)\n",
        "            for cls in classes:\n",
        "                files = [f for f in glob.glob(os.path.join(ROOT, cls, \"*\")) if os.path.isfile(f)]\n",
        "                random.shuffle(files)\n",
        "                n = len(files); n_train = int(0.8*n); n_val = int(0.1*n)\n",
        "                for i,f in enumerate(files):\n",
        "                    if i < n_train:\n",
        "                        dst = os.path.join(split_root, \"train\", cls, os.path.basename(f))\n",
        "                    elif i < n_train + n_val:\n",
        "                        dst = os.path.join(split_root, \"val\", cls, os.path.basename(f))\n",
        "                    else:\n",
        "                        dst = os.path.join(split_root, \"test\", cls, os.path.basename(f))\n",
        "                    shutil.copy2(f, dst)\n",
        "            ROOT = split_root\n",
        "\n",
        "print(\"Using dataset root with splits:\", ROOT)\n",
        "!find \"$ROOT\" -maxdepth 2 -type d -print\n"
      ]
    },
    {
      "cell_type": "code",
      "execution_count": 4,
      "metadata": {
        "id": "9Oc67Ze-sYn9",
        "colab": {
          "base_uri": "https://localhost:8080/"
        },
        "outputId": "8ecf9c41-e936-4c7d-fd84-9f4ef8709c35"
      },
      "outputs": [
        {
          "output_type": "execute_result",
          "data": {
            "text/plain": [
              "(5216, 16, 624, ['NORMAL', 'PNEUMONIA'], 'cuda')"
            ]
          },
          "metadata": {},
          "execution_count": 4
        }
      ],
      "source": [
        "\n",
        "import torch, os\n",
        "from torchvision import datasets, transforms\n",
        "from torch.utils.data import DataLoader\n",
        "\n",
        "IMG_SIZE = 224\n",
        "BATCH_SIZE = 32\n",
        "\n",
        "train_tfms = transforms.Compose([\n",
        "    transforms.Resize((IMG_SIZE, IMG_SIZE)),\n",
        "    transforms.RandomHorizontalFlip(),\n",
        "    transforms.RandomRotation(5),\n",
        "    transforms.ToTensor(),\n",
        "    transforms.Normalize(mean=[0.485,0.456,0.406], std=[0.229,0.224,0.225]),\n",
        "])\n",
        "val_tfms = transforms.Compose([\n",
        "    transforms.Resize((IMG_SIZE, IMG_SIZE)),\n",
        "    transforms.ToTensor(),\n",
        "    transforms.Normalize(mean=[0.485,0.456,0.406], std=[0.229,0.224,0.225]),\n",
        "])\n",
        "\n",
        "train_ds = datasets.ImageFolder(os.path.join(ROOT, \"train\"), transform=train_tfms)\n",
        "val_ds   = datasets.ImageFolder(os.path.join(ROOT, \"val\"),   transform=val_tfms)\n",
        "test_ds  = datasets.ImageFolder(os.path.join(ROOT, \"test\"),  transform=val_tfms)\n",
        "\n",
        "num_workers = 0\n",
        "pin_memory = False\n",
        "\n",
        "train_loader = DataLoader(train_ds, batch_size=BATCH_SIZE, shuffle=True,\n",
        "                          num_workers=num_workers, pin_memory=pin_memory)\n",
        "val_loader   = DataLoader(val_ds,   batch_size=BATCH_SIZE, shuffle=False,\n",
        "                          num_workers=num_workers, pin_memory=pin_memory)\n",
        "test_loader  = DataLoader(test_ds,  batch_size=BATCH_SIZE, shuffle=False,\n",
        "                          num_workers=num_workers, pin_memory=pin_memory)\n",
        "\n",
        "class_names = train_ds.classes\n",
        "DEVICE = \"cuda\" if torch.cuda.is_available() else \"cpu\"\n",
        "len(train_ds), len(val_ds), len(test_ds), class_names, DEVICE\n"
      ]
    },
    {
      "cell_type": "code",
      "source": [
        "\n",
        "import torch\n",
        "from collections import Counter\n",
        "\n",
        "targets = [y for _, y in train_ds.samples]\n",
        "counts = Counter(targets)\n",
        "num_classes = len(class_names)\n",
        "total = sum(counts.values())\n",
        "class_weights = torch.zeros(num_classes, dtype=torch.float)\n",
        "for c in range(num_classes):\n",
        "    class_weights[c] = total / (num_classes * counts[c])\n",
        "print(\"Class counts:\", counts)\n",
        "print(\"Class weights:\", class_weights)\n"
      ],
      "metadata": {
        "colab": {
          "base_uri": "https://localhost:8080/"
        },
        "id": "sPA3XnPP44tT",
        "outputId": "13e30e58-17a6-4366-bc79-4860c636deac"
      },
      "execution_count": 5,
      "outputs": [
        {
          "output_type": "stream",
          "name": "stdout",
          "text": [
            "Class counts: Counter({1: 3875, 0: 1341})\n",
            "Class weights: tensor([1.9448, 0.6730])\n"
          ]
        }
      ]
    },
    {
      "cell_type": "code",
      "source": [
        "\n",
        "import torch, torch.nn as nn, torch.optim as optim\n",
        "from torchvision import models\n",
        "from tqdm.auto import tqdm\n",
        "import os\n",
        "\n",
        "PROJECT_NAME = \"pneumonia_vgg_colab\"\n",
        "DRIVE_DIR = f\"/content/drive/MyDrive/{PROJECT_NAME}\"\n",
        "os.makedirs(DRIVE_DIR, exist_ok=True)\n",
        "\n",
        "ARCH = \"vgg16\"\n",
        "LR = 1e-3\n",
        "WD = 1e-4\n",
        "FREEZE_FEATURES_EPOCHS = 1\n",
        "EPOCHS = 8\n",
        "\n",
        "DEVICE = \"cuda\" if torch.cuda.is_available() else \"cpu\"\n",
        "print(\"Device:\", DEVICE)\n",
        "\n",
        "if ARCH == \"vgg16\":\n",
        "    model = models.vgg16(weights=models.VGG16_Weights.DEFAULT)\n",
        "else:\n",
        "    model = models.vgg19(weights=models.VGG19_Weights.DEFAULT)\n",
        "\n",
        "in_features = model.classifier[-1].in_features\n",
        "model.classifier[-1] = nn.Linear(in_features, len(class_names))\n",
        "model = model.to(DEVICE)\n",
        "\n",
        "criterion = nn.CrossEntropyLoss(weight=class_weights.to(DEVICE))\n",
        "optimizer = optim.AdamW(model.parameters(), lr=LR, weight_decay=WD)\n",
        "scheduler = optim.lr_scheduler.ReduceLROnPlateau(optimizer, mode='max', factor=0.5, patience=2)\n",
        "\n",
        "if FREEZE_FEATURES_EPOCHS > 0:\n",
        "    for p in model.features.parameters():\n",
        "        p.requires_grad = False\n",
        "print(\"Features frozen for first\", FREEZE_FEATURES_EPOCHS, \"epochs\")\n",
        "\n",
        "scaler = torch.cuda.amp.GradScaler(enabled=(DEVICE==\"cuda\"))\n",
        "\n",
        "best_val_acc = 0.0\n",
        "history = {\"train_loss\":[], \"val_acc\":[]}\n",
        "\n",
        "for epoch in range(1, EPOCHS+1):\n",
        "    model.train()\n",
        "    running = 0.0\n",
        "    for images, labels in tqdm(train_loader, desc=f\"Epoch {epoch}/{EPOCHS} - train\"):\n",
        "        images, labels = images.to(DEVICE), labels.to(DEVICE)\n",
        "        optimizer.zero_grad(set_to_none=True)\n",
        "        with torch.cuda.amp.autocast(enabled=(DEVICE=='cuda')):\n",
        "            outputs = model(images)\n",
        "            loss = criterion(outputs, labels)\n",
        "        scaler.scale(loss).backward()\n",
        "        scaler.step(optimizer)\n",
        "        scaler.update()\n",
        "        running += loss.item() * images.size(0)\n",
        "    train_loss = running / len(train_loader.dataset)\n",
        "\n",
        "    if epoch == FREEZE_FEATURES_EPOCHS:\n",
        "        for p in model.parameters(): p.requires_grad = True\n",
        "        print(\"Unfroze all layers.\")\n",
        "\n",
        "    model.eval()\n",
        "    correct = 0; total = 0\n",
        "    with torch.no_grad():\n",
        "        for images, labels in tqdm(val_loader, desc=f\"Epoch {epoch}/{EPOCHS} - val\"):\n",
        "            images, labels = images.to(DEVICE), labels.to(DEVICE)\n",
        "            with torch.cuda.amp.autocast(enabled=(DEVICE=='cuda')):\n",
        "                outputs = model(images)\n",
        "            _, preds = torch.max(outputs, 1)\n",
        "            correct += (preds == labels).sum().item()\n",
        "            total += labels.size(0)\n",
        "    val_acc = correct / total if total>0 else 0.0\n",
        "    scheduler.step(val_acc)\n",
        "\n",
        "    history[\"train_loss\"].append(train_loss)\n",
        "    history[\"val_acc\"].append(val_acc)\n",
        "    print(f\"Epoch {epoch}: train_loss={train_loss:.4f} val_acc={val_acc:.4f}\")\n",
        "\n",
        "    if val_acc > best_val_acc:\n",
        "        best_val_acc = val_acc\n",
        "        torch.save(model.state_dict(), os.path.join(DRIVE_DIR, f\"best_{ARCH}.pth\"))\n",
        "        print(\"Saved new best model to Drive.\")\n",
        "\n",
        "print(\"Best val acc:\", best_val_acc)\n"
      ],
      "metadata": {
        "colab": {
          "base_uri": "https://localhost:8080/",
          "height": 906,
        },
        "id": "AL6uDg0q47tO",
        "outputId": "d83d521d-2e09-47e0-bddf-7e36064eb069"
      },
      "execution_count": 10,
      "outputs": [
        {
          "output_type": "stream",
          "name": "stdout",
          "text": [
            "Device: cuda\n",
            "Features frozen for first 1 epochs\n"
          ]
        },
        {
          "output_type": "stream",
          "name": "stderr",
          "text": [
            "/tmp/ipython-input-4211164337.py:40: FutureWarning: `torch.cuda.amp.GradScaler(args...)` is deprecated. Please use `torch.amp.GradScaler('cuda', args...)` instead.\n",
            "  scaler = torch.cuda.amp.GradScaler(enabled=(DEVICE==\"cuda\"))\n"
          ]
        },
        {
          "output_type": "display_data",
          "data": {
            "text/plain": [
              "Epoch 1/8 - train:   0%|          | 0/163 [00:00<?, ?it/s]"
            ],
            "application/vnd.jupyter.widget-view+json": {
              "version_major": 2,
              "version_minor": 0,
              "model_id": "ab98683fbee7422f92ad834a4e29dfb7"
            }
          },
          "metadata": {}
        },
        {
          "output_type": "stream",
          "name": "stderr",
          "text": [
            "/tmp/ipython-input-4211164337.py:51: FutureWarning: `torch.cuda.amp.autocast(args...)` is deprecated. Please use `torch.amp.autocast('cuda', args...)` instead.\n",
            "  with torch.cuda.amp.autocast(enabled=(DEVICE=='cuda')):\n"
          ]
        },
        {
          "output_type": "stream",
          "name": "stdout",
          "text": [
            "Unfroze all layers.\n"
          ]
        },
        {
          "output_type": "display_data",
          "data": {
            "text/plain": [
              "Epoch 1/8 - val:   0%|          | 0/1 [00:00<?, ?it/s]"
            ],
            "application/vnd.jupyter.widget-view+json": {
              "version_major": 2,
              "version_minor": 0,
              "model_id": "4336d6a322e84f1ba718381dd36d5df1"
            }
          },
          "metadata": {}
        },
        {
          "output_type": "stream",
          "name": "stderr",
          "text": [
            "/tmp/ipython-input-4211164337.py:69: FutureWarning: `torch.cuda.amp.autocast(args...)` is deprecated. Please use `torch.amp.autocast('cuda', args...)` instead.\n",
            "  with torch.cuda.amp.autocast(enabled=(DEVICE=='cuda')):\n"
          ]
        },
        {
          "output_type": "stream",
          "name": "stdout",
          "text": [
            "Epoch 1: train_loss=0.7477 val_acc=0.8125\n",
            "Saved new best model to Drive.\n"
          ]
        },
        {
          "output_type": "display_data",
          "data": {
            "text/plain": [
              "Epoch 2/8 - train:   0%|          | 0/163 [00:00<?, ?it/s]"
            ],
            "application/vnd.jupyter.widget-view+json": {
              "version_major": 2,
              "version_minor": 0,
              "model_id": "eb656b2e51184dc6ac82017d42300e3f"
            }
          },
          "metadata": {}
        },
        {
          "output_type": "display_data",
          "data": {
            "text/plain": [
              "Epoch 2/8 - val:   0%|          | 0/1 [00:00<?, ?it/s]"
            ],
            "application/vnd.jupyter.widget-view+json": {
              "version_major": 2,
              "version_minor": 0,
              "model_id": "e2872b55b8ab4228a20114b4a4b4dc47"
            }
          },
          "metadata": {}
        },
        {
          "output_type": "stream",
          "name": "stdout",
          "text": [
            "Epoch 2: train_loss=6.2578 val_acc=0.6250\n"
          ]
        },
        {
          "output_type": "display_data",
          "data": {
            "text/plain": [
              "Epoch 3/8 - train:   0%|          | 0/163 [00:00<?, ?it/s]"
            ],
            "application/vnd.jupyter.widget-view+json": {
              "version_major": 2,
              "version_minor": 0,
              "model_id": "ab27b8a255ab4a23bfa402537aeb24fb"
            }
          },
          "metadata": {}
        },
        {
          "output_type": "display_data",
          "data": {
            "text/plain": [
              "Epoch 3/8 - val:   0%|          | 0/1 [00:00<?, ?it/s]"
            ],
            "application/vnd.jupyter.widget-view+json": {
              "version_major": 2,
              "version_minor": 0,
              "model_id": "e159ebd7092f4358a12c2520d4b75ac4"
            }
          },
          "metadata": {}
        },
        {
          "output_type": "stream",
          "name": "stdout",
          "text": [
            "Epoch 3: train_loss=0.4294 val_acc=0.6250\n"
          ]
        },
        {
          "output_type": "display_data",
          "data": {
            "text/plain": [
              "Epoch 4/8 - train:   0%|          | 0/163 [00:00<?, ?it/s]"
            ],
            "application/vnd.jupyter.widget-view+json": {
              "version_major": 2,
              "version_minor": 0,
              "model_id": "0f30aef6d81540a9b7d0f534a6d81036"
            }
          },
          "metadata": {}
        },
        {
          "output_type": "display_data",
          "data": {
            "text/plain": [
              "Epoch 4/8 - val:   0%|          | 0/1 [00:00<?, ?it/s]"
            ],
            "application/vnd.jupyter.widget-view+json": {
              "version_major": 2,
              "version_minor": 0,
              "model_id": "620e560b73b4457cb0963828b9f5699d"
            }
          },
          "metadata": {}
        },
        {
          "output_type": "stream",
          "name": "stdout",
          "text": [
            "Epoch 4: train_loss=0.4371 val_acc=0.7500\n"
          ]
        },
        {
          "output_type": "display_data",
          "data": {
            "text/plain": [
              "Epoch 5/8 - train:   0%|          | 0/163 [00:00<?, ?it/s]"
            ],
            "application/vnd.jupyter.widget-view+json": {
              "version_major": 2,
              "version_minor": 0,
              "model_id": "2685f7555b104a36982ef3cb579f6716"
            }
          },
          "metadata": {}
        },
        {
          "output_type": "display_data",
          "data": {
            "text/plain": [
              "Epoch 5/8 - val:   0%|          | 0/1 [00:00<?, ?it/s]"
            ],
            "application/vnd.jupyter.widget-view+json": {
              "version_major": 2,
              "version_minor": 0,
              "model_id": "050b7ba9c6644834bca525ecf73c812a"
            }
          },
          "metadata": {}
        },
        {
          "output_type": "stream",
          "name": "stdout",
          "text": [
            "Epoch 5: train_loss=0.2296 val_acc=0.7500\n"
          ]
        },
        {
          "output_type": "display_data",
          "data": {
            "text/plain": [
              "Epoch 6/8 - train:   0%|          | 0/163 [00:00<?, ?it/s]"
            ],
            "application/vnd.jupyter.widget-view+json": {
              "version_major": 2,
              "version_minor": 0,
              "model_id": "164d6f1b184945b6bae21a6ddf4313ac"
            }
          },
          "metadata": {}
        },
        {
          "output_type": "display_data",
          "data": {
            "text/plain": [
              "Epoch 6/8 - val:   0%|          | 0/1 [00:00<?, ?it/s]"
            ],
            "application/vnd.jupyter.widget-view+json": {
              "version_major": 2,
              "version_minor": 0,
              "model_id": "39865df40d384a9ea2368a50c2a99434"
            }
          },
          "metadata": {}
        },
        {
          "output_type": "stream",
          "name": "stdout",
          "text": [
            "Epoch 6: train_loss=0.1604 val_acc=0.8125\n"
          ]
        },
        {
          "output_type": "display_data",
          "data": {
            "text/plain": [
              "Epoch 7/8 - train:   0%|          | 0/163 [00:00<?, ?it/s]"
            ],
            "application/vnd.jupyter.widget-view+json": {
              "version_major": 2,
              "version_minor": 0,
              "model_id": "05e3e5597a6d439285da4d448ddc0ad8"
            }
          },
          "metadata": {}
        },
        {
          "output_type": "display_data",
          "data": {
            "text/plain": [
              "Epoch 7/8 - val:   0%|          | 0/1 [00:00<?, ?it/s]"
            ],
            "application/vnd.jupyter.widget-view+json": {
              "version_major": 2,
              "version_minor": 0,
              "model_id": "2619b6cafea44e4d87ef031b5bccb6be"
            }
          },
          "metadata": {}
        },
        {
          "output_type": "stream",
          "name": "stdout",
          "text": [
            "Epoch 7: train_loss=0.1312 val_acc=0.8750\n",
            "Saved new best model to Drive.\n"
          ]
        },
        {
          "output_type": "display_data",
          "data": {
            "text/plain": [
              "Epoch 8/8 - train:   0%|          | 0/163 [00:00<?, ?it/s]"
            ],
            "application/vnd.jupyter.widget-view+json": {
              "version_major": 2,
              "version_minor": 0,
              "model_id": "9936b2ff206440fb9325a8e70b025fa2"
            }
          },
          "metadata": {}
        },
        {
          "output_type": "display_data",
          "data": {
            "text/plain": [
              "Epoch 8/8 - val:   0%|          | 0/1 [00:00<?, ?it/s]"
            ],
            "application/vnd.jupyter.widget-view+json": {
              "version_major": 2,
              "version_minor": 0,
              "model_id": "fb5dd893a91d4ac494ed057886e7582e"
            }
          },
          "metadata": {}
        },
        {
          "output_type": "stream",
          "name": "stdout",
          "text": [
            "Epoch 8: train_loss=0.1194 val_acc=0.8750\n",
            "Best val acc: 0.875\n"
          ]
        }
      ]
    },
    {
      "cell_type": "code",
      "source": [
        "\n",
        "import matplotlib.pyplot as plt, numpy as np, torch, os\n",
        "from sklearn.metrics import classification_report, confusion_matrix, roc_auc_score, roc_curve\n",
        "import itertools\n",
        "\n",
        "plt.figure(); plt.plot(history[\"train_loss\"], label=\"train_loss\")\n",
        "plt.xlabel(\"Epoch\"); plt.ylabel(\"Loss\"); plt.title(\"Training Loss\"); plt.legend()\n",
        "plt.savefig(os.path.join(DRIVE_DIR,\"training_loss.png\")); plt.show()\n",
        "\n",
        "plt.figure(); plt.plot(history[\"val_acc\"], label=\"val_acc\")\n",
        "plt.xlabel(\"Epoch\"); plt.ylabel(\"Accuracy\"); plt.title(\"Validation Accuracy\"); plt.legend()\n",
        "plt.savefig(os.path.join(DRIVE_DIR,\"val_accuracy.png\")); plt.show()\n",
        "\n",
        "state_dict_path = os.path.join(DRIVE_DIR, f\"best_{ARCH}.pth\")\n",
        "model.load_state_dict(torch.load(state_dict_path, map_location=DEVICE))\n",
        "model.eval()\n",
        "\n",
        "all_labels, all_preds, all_probs = [], [], []\n",
        "with torch.no_grad():\n",
        "    for images, labels in test_loader:\n",
        "        images = images.to(DEVICE)\n",
        "        with torch.cuda.amp.autocast(enabled=(DEVICE=='cuda')):\n",
        "            outputs = model(images)\n",
        "        probs = torch.softmax(outputs, dim=1).cpu().numpy()\n",
        "        preds = np.argmax(probs, axis=1)\n",
        "        all_labels.extend(labels.numpy())\n",
        "        all_preds.extend(preds)\n",
        "        if len(class_names)==2:\n",
        "            all_probs.extend(probs[:,1])\n",
        "\n",
        "print(\"Classes:\", class_names)\n",
        "print(classification_report(all_labels, all_preds, target_names=class_names))\n",
        "\n",
        "cm = confusion_matrix(all_labels, all_preds)\n",
        "print(\"Confusion Matrix:\\\\n\", cm)\n",
        "\n",
        "plt.figure()\n",
        "plt.imshow(cm, interpolation='nearest'); plt.title('Confusion matrix'); plt.colorbar()\n",
        "ticks = np.arange(len(class_names))\n",
        "plt.xticks(ticks, class_names, rotation=45); plt.yticks(ticks, class_names)\n",
        "thr = cm.max()/2.\n",
        "for i,j in itertools.product(range(cm.shape[0]), range(cm.shape[1])):\n",
        "    plt.text(j, i, f\"{cm[i,j]}\", ha=\"center\", va=\"center\",\n",
        "             color=\"white\" if cm[i,j] > thr else \"black\")\n",
        "plt.ylabel('True label'); plt.xlabel('Predicted label'); plt.tight_layout()\n",
        "plt.savefig(os.path.join(DRIVE_DIR,\"confusion_matrix.png\")); plt.show()\n",
        "\n",
        "if len(class_names)==2 and len(all_probs)==len(all_labels):\n",
        "    auc = roc_auc_score(all_labels, all_probs)\n",
        "    fpr, tpr, _ = roc_curve(all_labels, all_probs)\n",
        "    print(\"ROC AUC:\", auc)\n",
        "    plt.figure(); plt.plot(fpr, tpr, label=f\"AUC = {auc:.3f}\"); plt.plot([0,1],[0,1],'--')\n",
        "    plt.xlabel(\"FPR\"); plt.ylabel(\"TPR\"); plt.title(\"ROC Curve\"); plt.legend(loc=\"lower right\")\n",
        "    plt.savefig(os.path.join(DRIVE_DIR,\"roc_curve.png\")); plt.show()\n"
      ],
      "metadata": {
        "colab": {
          "base_uri": "https://localhost:8080/",
          "height": 1000
        },
        "id": "CeaUwSl85Uqa",
        "outputId": "40a1e1c9-2e50-4afc-a8ed-51579b7f9dd0"
      },
      "execution_count": 11,
      "outputs": [
        {
          "output_type": "display_data",
          "data": {
            "text/plain": [
              "<Figure size 640x480 with 1 Axes>"
            ],
            "image/png": "iVBORw0KGgoAAAANSUhEUgAAAioAAAHHCAYAAACRAnNyAAAAOnRFWHRTb2Z0d2FyZQBNYXRwbG90bGliIHZlcnNpb24zLjEwLjAsIGh0dHBzOi8vbWF0cGxvdGxpYi5vcmcvlHJYcgAAAAlwSFlzAAAPYQAAD2EBqD+naQAASQZJREFUeJzt3Xl4lNW9B/DvOzOZyTYzWci+sa9ZRLZSXKigiMhV3LnYAt7bVoWqtTyPpVY2r4K2WrUqirXQWpVaK0qtiIiCdUEWSUhYAsgWyMaWmck2ycy894/MO8mQBLLMzHln5vt5nnnMvLP9krTm6zm/c44ky7IMIiIiIhXSiC6AiIiIqDMMKkRERKRaDCpERESkWgwqREREpFoMKkRERKRaDCpERESkWgwqREREpFoMKkRERKRaDCpERESkWgwqRNRlc+bMQd++fXv02iVLlkCSJN8WREQhj0GFKARIktSl25YtW0SXKsScOXMQGxsrugwi6gGJZ/0QBb+//e1vXvf/+te/YtOmTXjjjTe8rl977bVISUnp8ec0NzfD5XLBYDB0+7UOhwMOhwORkZE9/vyemjNnDt59913U1tYG/LOJqHd0ogsgot67++67ve5v27YNmzZtanf9QvX19YiOju7y50RERPSoPgDQ6XTQ6fivHCLqHk79EIWJiRMnIjc3F7t27cJVV12F6Oho/OY3vwEAfPDBB5g2bRrS09NhMBgwYMAAPP7443A6nV7vcWGPyrFjxyBJEn7/+99j1apVGDBgAAwGA8aMGYMdO3Z4vbajHhVJkjB//ny8//77yM3NhcFgwIgRI/Dxxx+3q3/Lli0YPXo0IiMjMWDAALz66qs+73v5xz/+gVGjRiEqKgp9+vTB3XffjVOnTnk9p7KyEnPnzkVmZiYMBgPS0tJw00034dixY57n7Ny5E1OmTEGfPn0QFRWFfv364Z577vFZnUThhP95QxRGzp49i6lTp+Kuu+7C3Xff7ZkGWrNmDWJjY/Hwww8jNjYWn332GRYtWgSr1Yrf/e53l3zft956CzabDT//+c8hSRKefvpp3HLLLThy5MglR2G+/PJLvPfee7j//vthNBrxwgsv4NZbb8WJEyeQmJgIANi9ezeuv/56pKWlYenSpXA6nVi2bBmSkpJ6/0NxW7NmDebOnYsxY8Zg+fLlqKqqwvPPP4+vvvoKu3fvRlxcHADg1ltvxd69e/GLX/wCffv2RXV1NTZt2oQTJ0547l933XVISkrCr3/9a8TFxeHYsWN47733fFYrUViRiSjkzJs3T77w/95XX321DEB+5ZVX2j2/vr6+3bWf//zncnR0tNzY2Oi5Nnv2bDknJ8dz/+jRozIAOTExUT537pzn+gcffCADkP/1r395ri1evLhdTQBkvV4vHz582HOtqKhIBiD/8Y9/9FybPn26HB0dLZ86dcpz7dChQ7JOp2v3nh2ZPXu2HBMT0+njTU1NcnJyspybmys3NDR4rn/44YcyAHnRokWyLMvy+fPnZQDy7373u07fa926dTIAeceOHZesi4gujVM/RGHEYDBg7ty57a5HRUV5vrbZbDhz5gyuvPJK1NfX48CBA5d83zvvvBPx8fGe+1deeSUA4MiRI5d87eTJkzFgwADP/fz8fJhMJs9rnU4nPv30U9x8881IT0/3PG/gwIGYOnXqJd+/K3bu3Inq6mrcf//9Xs2+06ZNw9ChQ/Hvf/8bQMvPSa/XY8uWLTh//nyH76WMvHz44Ydobm72SX1E4YxBhSiMZGRkQK/Xt7u+d+9ezJgxA2azGSaTCUlJSZ5GXIvFcsn3zc7O9rqvhJbO/phf7LXK65XXVldXo6GhAQMHDmz3vI6u9cTx48cBAEOGDGn32NChQz2PGwwGPPXUU9iwYQNSUlJw1VVX4emnn0ZlZaXn+VdffTVuvfVWLF26FH369MFNN92E1atXw263+6RWonDDoEIURtqOnChqampw9dVXo6ioCMuWLcO//vUvbNq0CU899RQAwOVyXfJ9tVpth9flLux+0JvXivDQQw/h4MGDWL58OSIjI/HYY49h2LBh2L17N4CWBuF3330X33zzDebPn49Tp07hnnvuwahRo7g8mqgHGFSIwtyWLVtw9uxZrFmzBg8++CBuvPFGTJ482WsqR6Tk5GRERkbi8OHD7R7r6FpP5OTkAABKS0vbPVZaWup5XDFgwAD86le/wieffIKSkhI0NTXhmWee8XrOD37wAzzxxBPYuXMn3nzzTezduxdr1671Sb1E4YRBhSjMKSMabUcwmpqa8PLLL4sqyYtWq8XkyZPx/vvvo7y83HP98OHD2LBhg08+Y/To0UhOTsYrr7ziNUWzYcMG7N+/H9OmTQPQsu9MY2Oj12sHDBgAo9Hoed358+fbjQZddtllAMDpH6Ie4PJkojD3wx/+EPHx8Zg9ezYeeOABSJKEN954Q1VTL0uWLMEnn3yCCRMm4L777oPT6cSLL76I3NxcFBYWduk9mpub8X//93/trickJOD+++/HU089hblz5+Lqq6/GzJkzPcuT+/bti1/+8pcAgIMHD2LSpEm44447MHz4cOh0Oqxbtw5VVVW46667AAB/+ctf8PLLL2PGjBkYMGAAbDYbXnvtNZhMJtxwww0++5kQhQsGFaIwl5iYiA8//BC/+tWv8Nvf/hbx8fG4++67MWnSJEyZMkV0eQCAUaNGYcOGDViwYAEee+wxZGVlYdmyZdi/f3+XViUBLaNEjz32WLvrAwYMwP333485c+YgOjoaK1aswCOPPIKYmBjMmDEDTz31lGclT1ZWFmbOnInNmzfjjTfegE6nw9ChQ/HOO+/g1ltvBdDSTLt9+3asXbsWVVVVMJvNGDt2LN58803069fPZz8TonDBs36IKGjdfPPN2Lt3Lw4dOiS6FCLyE/aoEFFQaGho8Lp/6NAhfPTRR5g4caKYgogoIDiiQkRBIS0tDXPmzEH//v1x/PhxrFy5Ena7Hbt378agQYNEl0dEfsIeFSIKCtdffz3efvttVFZWwmAwYPz48XjyyScZUohCHEdUiIiISLXYo0JERESqxaBCREREqhXUPSoulwvl5eUwGo2QJEl0OURERNQFsizDZrMhPT0dGs3Fx0yCOqiUl5cjKytLdBlERETUA2VlZcjMzLzoc4I6qBiNRgAt36jJZBJcDREREXWF1WpFVlaW5+/4xQR1UFGme0wmE4MKERFRkOlK2wabaYmIiEi1GFSIiIhItRhUiIiISLWCukeFiIhCk9PpRHNzs+gyqIciIiKg1Wp98l4MKkREpBqyLKOyshI1NTWiS6FeiouLQ2pqaq/3OWNQISIi1VBCSnJyMqKjo7mZZxCSZRn19fWorq4G0HLyeW8wqBARkSo4nU5PSElMTBRdDvVCVFQUAKC6uhrJycm9mgZiMy0REamC0pMSHR0tuBLyBeX32NteIwYVIiJSFU73hAZf/R4ZVIiIiEi1GFSIiIhUpG/fvnjuued88l5btmyBJElBvYqKzbRERES9NHHiRFx22WU+CRg7duxATExM74sKEQwq1CGXS4YMQKvhXDERUW/Jsgyn0wmd7tJ/dpOSkgJQUfDg1A91aPbq7Ziw4jNYGrgzJBHRxcyZMwdbt27F888/D0mSIEkS1qxZA0mSsGHDBowaNQoGgwFffvklvv/+e9x0001ISUlBbGwsxowZg08//dTr/S6c+pEkCX/6058wY8YMREdHY9CgQVi/fn2P6/3nP/+JESNGwGAwoG/fvnjmmWe8Hn/55ZcxaNAgREZGIiUlBbfddpvnsXfffRd5eXmIiopCYmIiJk+ejLq6uh7X0hUMKtTO2Vo7/nPoDCqtjdh1/JzocogojMmyjPomR8Bvsix3ucbnn38e48ePx09/+lNUVFSgoqICWVlZAIBf//rXWLFiBfbv34/8/HzU1tbihhtuwObNm7F7925cf/31mD59Ok6cOHHRz1i6dCnuuOMO7NmzBzfccANmzZqFc+e6/+/nXbt24Y477sBdd92F4uJiLFmyBI899hjWrFkDANi5cyceeOABLFu2DKWlpfj4449x1VVXAQAqKiowc+ZM3HPPPdi/fz+2bNmCW265pVs/q57g1A+1U3SyxvP1npMWXDM0RVwxRBTWGpqdGL5oY8A/d9+yKYjWd+1PpNlshl6vR3R0NFJTUwEABw4cAAAsW7YM1157ree5CQkJKCgo8Nx//PHHsW7dOqxfvx7z58/v9DPmzJmDmTNnAgCefPJJvPDCC9i+fTuuv/76bn1fzz77LCZNmoTHHnsMADB48GDs27cPv/vd7zBnzhycOHECMTExuPHGG2E0GpGTk4ORI0cCaAkqDocDt9xyC3JycgAAeXl53fr8nuCICrVTeKLG83XxSYu4QoiIgtzo0aO97tfW1mLBggUYNmwY4uLiEBsbi/37919yRCU/P9/zdUxMDEwmk2eL+u7Yv38/JkyY4HVtwoQJOHToEJxOJ6699lrk5OSgf//++PGPf4w333wT9fX1AICCggJMmjQJeXl5uP322/Haa6/h/Pnz3a6huziiQu0UtgknxacYVIhInKgILfYtmyLkc33hwtU7CxYswKZNm/D73/8eAwcORFRUFG677TY0NTVd9H0iIiK87kuSBJfL5ZMa2zIajfjuu++wZcsWfPLJJ1i0aBGWLFmCHTt2IC4uDps2bcLXX3+NTz75BH/84x/x6KOP4ttvv0W/fv18XouCIyrkRZZlFJXVeO5X2+yosjaKK4iIwpokSYjW6wJ+6+6uqnq9Hk6n85LP++qrrzBnzhzMmDEDeXl5SE1NxbFjx3r40+m+YcOG4auvvmpX0+DBgz3n8eh0OkyePBlPP/009uzZg2PHjuGzzz4D0PL7mDBhApYuXYrdu3dDr9dj3bp1fq2ZIyrk5eiZOlgamqHXaZAZH4Ujp+uw56QF1w6PFF0aEZFq9e3bF99++y2OHTuG2NjYTkc7Bg0ahPfeew/Tp0+HJEl47LHH/DIy0plf/epXGDNmDB5//HHceeed+Oabb/Diiy/i5ZdfBgB8+OGHOHLkCK666irEx8fjo48+gsvlwpAhQ/Dtt99i8+bNuO6665CcnIxvv/0Wp0+fxrBhw/xaM0dUyIvSSJubbsLl2fEAOP1DRHQpCxYsgFarxfDhw5GUlNRpz8mzzz6L+Ph4/PCHP8T06dMxZcoUXH755QGr8/LLL8c777yDtWvXIjc3F4sWLcKyZcswZ84cAEBcXBzee+89XHPNNRg2bBheeeUVvP322xgxYgRMJhO++OIL3HDDDRg8eDB++9vf4plnnsHUqVP9WrMk+3tdkR9ZrVaYzWZYLBaYTCbR5YSExR+U4C/fHMc9E/ohJzEai9fvxY+GJGH13LGiSyOiENfY2IijR4+iX79+iIzkKG6wu9jvszt/vzn1Q14K3f0pBVlmZCW0HNFdfMoCWZZ5oikREQUcp37Iw+5wYl+FFQAwMisew9NM0GoknKltQiUbaomIVOfee+9FbGxsh7d7771XdHk+IXxE5dSpU3jkkUewYcMG1NfXY+DAgVi9enW7tefkf/vKrWh2ykiI0SMrIQqSJGFQciwOVNqw56QFaeYo0SUSEVEby5Ytw4IFCzp8LFRaIoQGlfPnz2PChAn40Y9+hA0bNiApKQmHDh1CfHy8yLLClmfaJ9PsmebJzzTjQKUNxSctmDIiVWB1RER0oeTkZCQnJ4suw6+EBpWnnnoKWVlZWL16teeaPzeNoYtT9k+5LKs1KOZlxuGdnSe58oeIiIQQ2qOyfv16jB49GrfffjuSk5MxcuRIvPbaa50+3263w2q1et3Id5QRlcuy4zzX8jLMAFobaomI/C2Q+4qQ//jq9yh0ROXIkSNYuXIlHn74YfzmN7/Bjh078MADD0Cv12P27Nntnr98+XIsXbpUQKWh73xdE46ddZ/nkGn2XB+aaoROI+FcXRNO1TQgMz5aVIlEFOL0ej00Gg3Ky8uRlJQEvV7P1YZBSJZlNDU14fTp09BoNNDr9b16P6H7qOj1eowePRpff/2159oDDzyAHTt24Jtvvmn3fLvdDrvd7rlvtVqRlZXFfVR84PPSasxdvQP9+sTg8wUTvR6b9sJ/sLfcipWzLsfUvDQxBRJRWGhqakJFRYXnIDwKXtHR0UhLS+swqATNPippaWkYPny417Vhw4bhn//8Z4fPNxgMMBgMgSgt7LT2p8S1eyw/04y95VYUn7IwqBCRX+n1emRnZ8PhcHTp7BxSJ61WC52u+2cmdURoUJkwYQJKS0u9rh08eBA5OTmCKgpfbVf8XCg3wwygjA21RBQQkiQhIiKi3YnBFJ6ENtP+8pe/xLZt2/Dkk0/i8OHDeOutt7Bq1SrMmzdPZFlhp+2JyZdlt18anp8RBwDYc5INtUREFFhCg8qYMWOwbt06vP3228jNzcXjjz+O5557DrNmzRJZVtg5ca4e5+uboddqMCzN2O7xwamx0Gs1sDQ04+T5BgEVEhFRuBK+M+2NN96IG2+8UXQZYU2Z9hmWboJBp233uEGnxZBUI4pPWbDnpMVzBhAREZG/8awfwu4TNQCAkR000iry3L0re07V+L8gIiIiNwYVQtHJGgAdr/hR5Ls3fithQy0REQUQg0qYa3K4sLe8ZYffgosElVx3UGFDLRERBRKDSpjbX2FFk8OFuOgI9E3svPdkcIoRep0GtkYHjp/lRkxERBQYDCphTpn2KciMu+jGPHqdBsPSWnYP5H4qREQUKAwqYa7Q3Uh7sWkfRV4GgwoREQUWg0qYU5YmX2zFj6J147cav9VDRETUFoNKGLPUN+PImToAXRxRcS9R3nvKCpeLDbVEROR/DCphTOlPyU6IRkLMpY/hHpQcC4NOA5vdgWNn6/xcHREREYNKWCu8yInJHdFpNRiezj4VIiIKHAaVMFbUzaACtG78tuckgwoREfkfg0qYkmXZM6LSlf4URV5my3M5okJERIHAoBKmTp5vwNm6JkRoJYxwT+d0RV6G0lBrgZMNtURE5GcMKmHKc2JymgmREe1PTO7MgKQYREVoUdfkxNEztX6qjoiIqAWDSpjyTPu4p3K6SqfVeEZgOP1DRET+xqASprq74qetXDbUEhFRgDCohKFmpwsl7tGQy7Ljuv36fPfGb8UMKkRE5GcMKmGotNIGu8MFY6QO/RJjuv16JajsLbeyoZaIiPyKQSUM7W4z7aPRdH5icmf69YlFtF6LhmYnvj/NhloiIvIfBpUw1JON3trSaiTkprNPhYiI/I9BJQz1dMVPW8oBhSVc+UNERH7EoBJmrI3NnumanjTSKvI8K39qfFAVERFRxxhUwkzxSQtkGciMj0KfWEOP30cZUdlXYYXD6fJVeURERF4YVMJMT8736Ui/xBjEGnRobHbhMBtqiYjITxhUwszuEzUAgJG9DCoajYTcjJYdatlQS0RE/sKgEkbanpjc0xU/bSl9Ktz4jYiI/IVBJYyUWxpxptbesrzYHTJ6I8+9amgPV/4QEZGfMKiEkUL3tM/QVGO3TkzuTL477OyvsKKZDbVEROQHDCphpMi9lNgX0z4AkJMYDWOkDk0OFw5W2XzynkRERG0xqIQRZUTFV0FFkiT2qRARkV8xqIQJh9OFYuXEZB8FFaB1P5Vi9qkQEZEfMKiEiYNVtWhodsJo0GFAUqzP3tczosKgQkREfsCgEiaUZcn5WeYenZjcmfyMOADAgQobmhxsqCUiIt9iUAkThWXnAfTuIMKOZCVEwRwVgSYnG2qJiMj3GFTCRFGZ7/tTAO+GWu5QS0REvsagEgZq7Q4crG4Z7fB1UAHaNtTW+Py9iYgovDGohIE9J2sgy0C6ORLJpkifv38+G2qJiMhPGFTCgOd8n+w4v7y/sh1/aaUNjc1Ov3wGERGFJwaVMFDkw4MIO5IZH4X46Ag0O2WUVrKhloiIfIdBJQwoIyq+XvGjkCTJc0Ahp3+IiMiXGFRCXIWlAVXWlhOTlaZXf8jnVvpEROQHDCohTpn2GZxiRLRe57fPUfpU9nBEhYiIfIhBJcTt9vSn+G80BQDy3aM1h6rYUEtERL4jNKgsWbIEkiR53YYOHSqypJDj6xOTO5NmjkSfWD0cLhn7K6x+/SwiIgofwkdURowYgYqKCs/tyy+/FF1SyHC65DYnJsf79bMkSfJM/7ChloiIfMV/TQtdLUCnQ2pqqugyQtKhahvqm5yI0WsxMNl3JyZ3Jj/DjC2lp7mVPhER+YzwEZVDhw4hPT0d/fv3x6xZs3DixAnRJYUMZdonL9MMrQ9PTO6MskS5hCMqRETkI0JHVMaNG4c1a9ZgyJAhqKiowNKlS3HllVeipKQERqOx3fPtdjvsdrvnvtXKXoiLKTpZA8D/0z4K5XDCg1U2NDQ5EaXXBuRziYgodAkdUZk6dSpuv/125OfnY8qUKfjoo49QU1ODd955p8PnL1++HGaz2XPLysoKcMXBZbenkda/K34UKSYDkowGuGRgXwVHVYiIqPeET/20FRcXh8GDB+Pw4cMdPr5w4UJYLBbPraysLMAVBo86uwMHq5QTkwMzoiJJEjd+IyIin1JVUKmtrcX333+PtLS0Dh83GAwwmUxeN+pYySkLXDKQaopEqtn3JyZ3hhu/ERGRLwkNKgsWLMDWrVtx7NgxfP3115gxYwa0Wi1mzpwpsqyQ4DnfJ0DTPgpl4zeOqBARkS8IbaY9efIkZs6cibNnzyIpKQlXXHEFtm3bhqSkJJFlhYRCz460gZn2USgNtd+frkWd3YEYg/AV8EREFMSE/hVZu3atyI8PaUWeoBIX0M9NNkUixWRAldWOfRVWjOmbENDPJyKi0KKqHhXyjWprI8otjZAk+PXE5M7kZcQBADd+IyKiXmNQCUHKQYSDk42IFTD1ovSpcOM3IiLqLQaVECRq2kehjOLscW84R0RE1FMMKiGodcVPnJDPVxpqj5ypQ63dIaQGIiIKDQwqIcbpkj29IaJGVPrEGpBujoQsA3s5/UNERL3AoBJijpyuRa3dgagILQan+P/E5M4o0z/FDCpERNQLDCohRmmkzcswQ6cV9+tVpn+48oeIiHqDQSXEeDZ6y44TWkdeZsvnc0SFiIh6g0ElxIhe8aNQRlSOnqmDtbFZaC1ERBS8GFRCSEOTEwcqW05MFrXiR5EQo0dGXBQA7qdCREQ9x6ASQkrKLXC6ZCQZW1bdiMYDComIqLcYVEJI22kfSZLEFgOu/CEiot5jUAkhu1XSn6JQ+lQYVIiIqKcYVEJI4YkaAOoLKsfP1sNSz4ZaIiLqPgaVEHHaZsepmgZIUmtviGhx0XpkJ0QDaOmfISIi6i4GlRCh9KcMTIqFMTJCbDFtcOM3IiLqDQaVECH6IMLOtDbU1ogthIiIghKDSogoOlkDQD39KYp8NtQSEVEvMKiEAJdLbt06X2VBZYQ7qJSda8D5uibB1RARUbBhUAkBR87UwdbogEGnwZBUo+hyvJijItA3saWhlqMqRETUXQwqIaCozYnJEQJPTO4MDygkIqKeUt9fNeo2tU77KDx9Klz5Q0RE3cSgEgLUuuJHkcuGWiIi6iEGlSDX2OzE/gorAPWOqORmmAAAp2oacLbWLrgaIiIKJgwqQW5vuRUOl4w+sXpkxkeJLqdDxsgI9E+KAcBRFSIi6h4GlSDnmfbJVMeJyZ3JY58KERH1AINKkFN7I63Cs5U+R1SIiKgbGFSCnLI0+bLsOKF1XEq+e4lyCYMKERF1A4NKEDtba8eJc/UAWoOAWo1IN0GSgApLI6ptjaLLISKiIMGgEsSU8336J8XAHKWeE5M7EmPQYUBSLACOqhARUdcxqASxwrKWP/hq709RtG78ZhVcCRERBQsGlSAWLI20itaN32rEFkJEREGDQSVIybLc2kgbJEElP9O98odLlImIqIsYVILUsbP1sDQ0Q6/TYGiqSXQ5XTI83QSNBFTb7KiysqGWiIgujUElSBWWnQfQsppGrwuOX2O0XodByUYA3PiNiIi6Jjj+wlE7hSdqAATPtI8ilxu/ERFRNzCoBKnCk8G14keh9KlwiTIREXUFg0oQsjuc2F+u7hOTO5PXpqFWlmXB1RARkdoxqAShfeVWNDldSIjRIzshWnQ53TI8zQStRsKZWjsq2VBLRESXwKAShIo8JyabVX1ickciI7QYlNyyQy2XKRMR0aUwqAQhZaO3giCb9lGwT4WIiLqKQSUIBduOtBfKy+DGb0RE1DUMKkGmpr4Jx862nJgctEHFfdJz8Sk21BIR0cUxqAQZZTSlb2I04qL1YovpoaGpRug0Es7VNaHcwoZaIiLqnGqCyooVKyBJEh566CHRpahasE/7AC0NtYNTlB1qa8QWQ0REqqaKoLJjxw68+uqryM/PF12K6gXbQYSd4QGFRETUFcKDSm1tLWbNmoXXXnsN8fHxostRNVmWg37Fj0LZ+K2YK3+IiOgihAeVefPmYdq0aZg8ebLoUlTvxLl6nK9vhl6rwfD04DgxuTP5GXEA2FBLREQXpxP54WvXrsV3332HHTt2dOn5drsddrvdc99qtfqrNFVSRlOGpZtg0GnFFtNLg1NjEaGVUFPfjJPnG5AVZDvsEhFRYAgbUSkrK8ODDz6IN998E5GRkV16zfLly2E2mz23rKwsP1epLp5GWve0STAz6LQYmtoyKsTpHyIi6oywoLJr1y5UV1fj8ssvh06ng06nw9atW/HCCy9Ap9PB6XS2e83ChQthsVg8t7KyMgGVi+MJKtlxQuvwlTw21BIR0SUIm/qZNGkSiouLva7NnTsXQ4cOxSOPPAKttv3UhsFggMFgCFSJqtLkcGGv58Tk0Gg6VnaoLT5VI7YQIiJSLWFBxWg0Ijc31+taTEwMEhMT210n4EClFU0OF8xREeibGBr9HJ6gcrKloTbYDlgkIiL/E77qh7qm7bLkUPmDPjjFCL1OA2ujAyfO1Ysuh4iIVEjoqp8LbdmyRXQJqhUKO9JeSK/TYFiqEUUnLdhz0oKcxBjRJRERkcpwRCVIKEFlZAgFFaC1obaEK3+IiKgDDCpBwFLfjCOn6wC0bj0fKpSN37jyh4iIOsKgEgT2uFfFZCdEIzE2tFY95Wa0jqi4XNyhloiIvDGoBIHCEzUAQqs/RTEoJRYGnQY2uwPHztaJLoeIiFSGQSUIhMpBhB2JaHNuEXeoJSKiCzGoqJwsyyg6WQMgNEdUAO/9VIiIiNpiUFG5k+cbcKa2CTqNhBFBfmJyZ5SgsocjKkREdAEGFZXznJicZkJkRHCfmNyZ/Mw4AMBeNtQSEdEFGFRUrigEN3q70ICkGERFaFHX5MSRM2yoJSKiVgwqKheKO9JeSOfVUFsjthgiIlIVBhUVa3a6PCthQnHFT1utDbVWwZUQEZGaMKioWGmlDXaHC8ZIHfr3Ce1zcJQddzmiQkREbTGoqFjbaR+NJjROTO5MnmeHWiucbKglIiI3BhUV82z05l4VE8r6J8UiWq9FQ7MTR07Xii6HiIhUgkFFxcJhxY9Cq5GQm+7eT4UbvxERkRuDikrZGptx2D2yEOqNtArlgEJupU9ERAoGFZXac9ICWQYy4qKQZAytE5M709pQy6BCREQtGFRUytNImx0ntI5AynMHlb3lFjicLsHVEBGRGjCoqJQSVEaGybQPAPRLjEGsQYfGZpdn2ouIiMIbg4oKybLcuuInjIKKps3Bi2yoJSIigEFFlcotjThts3uthAkXSp9KCftUiIgIDCqqpCxLHppqRJQ+NE9M7oyy8ocjKkREBDCoqFI4Tvso8t2b2+2rsKKZDbVERGGPQUWFCk/UAAiPjd4ulJMQDWOkDk0OFw5VsaGWiCjcMaiojKPNicnhtOJHodFIrScp84BCIqKwx6CiMgeratHQ7ESsQYf+SbGiyxEij30qRETk1qOgUlZWhpMnT3rub9++HQ899BBWrVrls8LCldKfkp9phjbET0zuTB5X/hARkVuPgsp///d/4/PPPwcAVFZW4tprr8X27dvx6KOPYtmyZT4tMNyE00GEncnPiAMA7K+wocnBhloionDWo6BSUlKCsWPHAgDeeecd5Obm4uuvv8abb76JNWvW+LK+sBPOK34UWQlRMEdFoMnpwsEqm+hyiIhIoB4FlebmZhgMLQflffrpp/iv//ovAMDQoUNRUVHhu+rCTK3dgYPVLX+Yw7GRViFJbRtqOf1DRBTOehRURowYgVdeeQX/+c9/sGnTJlx//fUAgPLyciQmJvq0wHBS7D4xOd0ciWRTpOhyhFL6VNhQS0QU3noUVJ566im8+uqrmDhxImbOnImCggIAwPr16z1TQtR9nPZpxSXKREQEALqevGjixIk4c+YMrFYr4uPjPdd/9rOfITo62mfFhZvCsvMAwruRVqEEldJKG+wOJwy68DpKgIiIWvRoRKWhoQF2u90TUo4fP47nnnsOpaWlSE5O9mmB4aSorGWag0EFyIyPQnx0BJqdMkor2VBLRBSuehRUbrrpJvz1r38FANTU1GDcuHF45plncPPNN2PlypU+LTBcVFoaUWlthEZqPZgvnEmSxAMKiYioZ0Hlu+++w5VXXgkAePfdd5GSkoLjx4/jr3/9K1544QWfFhgulGmfwSlGxBh6NCMXcvLdDbXFDCpERGGrR0Glvr4eRqMRAPDJJ5/glltugUajwQ9+8AMcP37cpwWGi0L3tM/I7DixhahInnvjNy5RJiIKXz0KKgMHDsT777+PsrIybNy4Eddddx0AoLq6GiaTyacFhgs20ranLFE+WGVDY7NTcDVERCRCj4LKokWLsGDBAvTt2xdjx47F+PHjAbSMrowcOdKnBYYDp0v2TG9waXKrdHMkEmP0cLhk7K+wii6HiIgE6FFQue2223DixAns3LkTGzdu9FyfNGkS/vCHP/isuHBxuLoWdU1OxOi1GJRsFF2OakiSxAMKiYjCXI+7NlNTU5Gamuo5RTkzM5ObvfWQMu2TF8YnJncmP8OMLaWnufKHiChM9WhExeVyYdmyZTCbzcjJyUFOTg7i4uLw+OOPw+XiabfdxR1pO5fLM3+IiMJaj0ZUHn30Ubz++utYsWIFJkyYAAD48ssvsWTJEjQ2NuKJJ57waZGhzrPih0GlnfzMOADAoepaNDQ5EaXnDrVEROGkR0HlL3/5C/70pz95Tk0GgPz8fGRkZOD+++9nUOmG+iYHSitbGkUvy4q/xLPDT4rJgCSjAadtduyrsGJUDn9GREThpEdTP+fOncPQoUPbXR86dCjOnTvX5fdZuXIl8vPzYTKZYDKZMH78eGzYsKEnJQWt4pMWuOSWP8ip5vA+MbkjkiS1HlB4skZsMUREFHA9CioFBQV48cUX211/8cUXkZ+f3+X3yczMxIoVK7Br1y7s3LkT11xzDW666Sbs3bu3J2UFpSL3H1/un9K51pOUuUSZiCjc9Gjq5+mnn8a0adPw6aefevZQ+eabb1BWVoaPPvqoy+8zffp0r/tPPPEEVq5ciW3btmHEiBE9KS3oKI20nPbpnGcr/VM1YgshIqKA69GIytVXX42DBw9ixowZqKmpQU1NDW655Rbs3bsXb7zxRo8KcTqdWLt2Lerq6jzh50J2ux1Wq9XrFuwKT9QAAAqyeBBhZ5QRlcPVtahvcgiuhoiIAqnH+6ikp6e3a5otKirC66+/jlWrVnX5fYqLizF+/Hg0NjYiNjYW69atw/Dhwzt87vLly7F06dKelqw61dZGlFsaIUmtq1uovWRTJFJMBlRZ7dhXbsXovgmiSyIiogDp0YiKLw0ZMgSFhYX49ttvcd9992H27NnYt29fh89duHAhLBaL51ZWVhbgan1LmfYZnGxELE9MvijlgEJu/EZEFF6E/3XU6/UYOHAgAGDUqFHYsWMHnn/+ebz66qvtnmswGGAwGAJdot+0bvTGaZ9Lycsw49P9Vdz4jYgozAgfUbmQy+WC3W4XXUZAtK74YSPtpbQ21DKoEBGFk26NqNxyyy0XfbympqZbH75w4UJMnToV2dnZsNlseOutt7Blyxavgw5DlcslY497R1ouTb40ZSv970/Xotbu4FQZEVGY6Na/7c3mi09RmM1m/OQnP+ny+1VXV+MnP/kJKioqYDabkZ+fj40bN+Laa6/tTllB6fvTtbDZHYiK0GJwSqzoclQvyWhAmjkSFZZG7D1lwbj+iaJLIiKiAOhWUFm9erVPP/z111/36fsFE6U/JS/DDJ1WdTNwqpSXYUaFpRHFDCpERGGDfyEF8Wz0lh0ntI5gwj4VIqLww6AiiGfFD/dP6bI898+qmEuUiYjCBoOKAI3NThyotAHgiEp3KDvUHjlTB2tjs+BqiIgoEBhUBCg5ZYHTJSPJaEA6T0zusoQYPTLiogAAe3lAIRFRWGBQEaDttI8kSWKLCTI8oJCIKLwwqAiw2x1URnLap9uU/VS4lT4RUXhgUBGgSFnxw43euk0ZUSnhyh8iorDAoBJgZ2rtOHm+AZIE5GXyjJ/uUhpqj52th6WeDbVERKGOQSXACk/UAAAGJMXCFBkhtpggFBetR1ZCS0NtSTlHVYiIQh2DSoC1HkQYJ7SOYJafEQeAG78REYUDBpUA86z4YVDpMWXKjBu/ERGFPgaVAHK5ZE9QGcmg0mNKn8oeLlEmIgp5DCoBdPRsHWyNDhh0GgxJNYouJ2jlprcElbJzDaipbxJcDRER+RODSgApjbS5GWZE8MTkHjNHR6BvYjQA9qkQEYU6/rUMoELun+IzygGF3PiNiCi0MagEEFf8+E5ehgkAG2qJiEIdg0qANDY7sb+i5SA9BpXey+MSZSKisMCgEiB7y61odspIjNEjMz5KdDlBL9c9onKqpgFna+2CqyEiIn9hUAmQtuf78MTk3jNGRqB/nxgAHFUhIgplDCoBwo3efC+PBxQSEYU8BpUA4Yof3/Ns/MaGWiKikMWgEgDn6ppw4lw9AI6o+JISVDj1Q0QUuhhUAkDpT+mfFANzFE9M9pURGWZIElBhacRpGxtqiYhCEYNKAOxWpn3cm5SRb8QadBiQFAuAfSpERKGKQSUAPCt+suOE1hGK2KdCRBTaGFT8TJZl7kjrR+xTISIKbQwqfnbsbD1q6puh12kwNNUkupyQk5+pBJUasYUQEZFfMKj4mTLtMyLdBL2OP25fG55ugkYCqqx2VFsbRZdDREQ+xr+cfsb9U/wrWq/DwOSWhlpO/xARhR4GFT/bzaDid8oBhWyoJSIKPQwqfmR3OLG/nCcm+1trnwqDChFRqGFQ8aP9FTY0OV2Ij45AdkK06HJCVm6bJcqyLAuuhoiIfIlBxY8KT5wH0LJtPk9M9p/haSZoNRLO1NpRZeUOtUREoYRBxY+K3D0TnPbxryi9FoPcDbV73HvWEBFRaGBQ8SOu+AkcbvxGRBSaGFT8pKa+CUfP1AEACnjGj9+xoZaIKDQxqPiJMu3TNzEa8TF6wdWEvjx3GCxmQy0RUUhhUPGTwhM1ADjtEyhDU43QaSScrWtCuYU71BIRhQoGFT8pLGtd8UP+FxmhxeAUI4CWURUiIgoNDCp+0HJiMlf8BBoPKCQiCj0MKn5Qdq4B5+qaEKGVMDydJyYHStuN34iIKDQwqPjBbve0z/A0Eww6reBqwocyolJyig21REShgkHFD4rKOO0jwpBUIyK0Es7XN+Pk+QbR5RARkQ8wqPiB0kh7WXac2ELCjEGnxZBUd0Mt91MhIgoJQoPK8uXLMWbMGBiNRiQnJ+Pmm29GaWmpyJJ6rcnhQon7xGRu9BZ4eRlxABhUiIhChdCgsnXrVsybNw/btm3Dpk2b0NzcjOuuuw51dXUiy+qV0kobmhwumKMi0K9PjOhywo5n5Q8baomIQoJO5Id//PHHXvfXrFmD5ORk7Nq1C1dddZWgqnqn7f4pPDE58PI8K39qIMsyfwdEREFOaFC5kMXS8l/BCQkJHT5ut9tht9s9961Wa0Dq6o7dykGE7v+yp8AanGKEXquBtdGBE+fqkZPIUS0iomCmmmZal8uFhx56CBMmTEBubm6Hz1m+fDnMZrPnlpWVFeAqL61ICSpspBVCr9NgWBobaomIQoVqgsq8efNQUlKCtWvXdvqchQsXwmKxeG5lZWUBrPDSLA3N+P40T0wWLY99KkREIUMVUz/z58/Hhx9+iC+++AKZmZmdPs9gMMBgMASwsu7Zc7IGAJCVEIXEWPXWGeryuEMtEVHIEDqiIssy5s+fj3Xr1uGzzz5Dv379RJbTa60nJseLLSTMKUuUS8otcLm4Qy0RUTATOqIyb948vPXWW/jggw9gNBpRWVkJADCbzYiKihJZWo8UuUdUuCOtWINSYmHQaWBrdOD4uXouEyciCmJCR1RWrlwJi8WCiRMnIi0tzXP7+9//LrKsHpFlGYVKI20WV/yIFKHVYFhay2GQynQcEREFJ6EjKqF0cNzJ8w04U9sEnUbCiHQGFdHyM80oLKtBySkLbrosQ3Q5RETUQ6pZ9RPslGmfYWkmREbwxGTR2FBLRBQaGFR8RGmkLeC0jyooS5T3llvZUEtEFMQYVHyktT+FK37UYGBSLCIjNKi1O3D0bPCeHUVEFO4YVHyg2elCSXnLFANX/KiDTqvx9Apx4zciouDFoOIDpZU2NDa7YIzUoT+XwqoG+1SIiIIfg4oPKNM+BZlx0Gh4Wq9aKEGlhGf+EBEFLQYVH/AcRMhpH1XJdzfUlpRb4GRDLRFRUGJQ8YFCBhVV6p8Ui2i9FvVNThw5XSu6HCIi6gEGlV6yNTbjsPuPYAGDiqpoNRJGpLfsUFvM6R8ioqDEoNJLxSctkGUgIy4KSUaemKw2ygGFbKglIgpODCq9tFuZ9smOE1oHdUzpU+GIChFRcGJQ6SVPf0pmnNA6qGO5GcoOtRY4nC7B1RARUXcxqPSC14nJHFFRpf59YhCj16Kx2YXvT3OHWiKiYMOg0gsVlkacttmh1UjI5YnJqqTRSJ5RlT3ugyOJiCh4MKj0gjKaMiTFiCg9T0xWK2XjN/apEBEFHwaVXijitE9QyGNDLRFR0GJQ6YXd3OgtKOS7G533lVvRzIZaIqKgwqDSQw6ny3MqL4OKuuUkRMNo0MHucOFQFXeoJSIKJgwqPXSouhYNzU7EGnQYkBQruhy6iLYNtTygkIgouDCo9JDSSJufaYaWJyarnrLx255TNWILISKibmFQ6aHCEzUAeL5PsFBGVIq5lT4RUVBhUOmhIveeHOxPCQ7KiMr+ShuaHGyoJSIKFgwqPVBnd+BglQ0AMJJBJShkJ0TDFKlDk8Pl+d0REZH6Maj0wJ6TFrhkIM0ciWRTpOhyqAskSfIsU+Z+KkREwYNBpQc47ROccrlDLRFR0GFQ6QGlkZZBJbgofSpsqCUiCh4MKj2gLE3mip/gopz5c6DSCrvDKbgaIiLqCgaVbqq0NKLS2giN1PqHj4JDZnwU4qIj0OyUUVrJhloiomDAoNJNymjK4BQjYgw6scVQt0iSxJOUiYiCDINKNxXyIMKgxj4VIqLgwqDSTUUMKkFNGVHZw6BCRBQUGFS6wemSsUdZmpwdJ7QW6pk8914qB6tsaGxmQy0RkdoxqHTD4epa1DU5Ea3XYlCyUXQ51APp5kgkxujhcMk4wIZaIiLVY1DpBmXaJy+DJyYHK0mS2hxQWCO2GCIiuiQGlW7YrfSncNonqHkaarnyh4hI9RhUusGz4sfd50DBiQ21RETBg0Gli+qbWk9M5ohKcFMOJzxUXcuGWiIilWNQ6aKSU1Y4XTJSTAakmaNEl0O9kGIyoE+sAU6XjH0VVtHlEBHRRTCodFFh2XkAQAGnfYKeJEnc+I2IKEgwqHRRIRtpQwr7VIiIggODShcVlbX8QeOOtKFBCSolXPlDRKRqDCpdUG1rxKmaBkg8MTlk5Lmnfg5V21Df5BBcDRERdYZBpQsKT9QAAAYlx8IYGSG2GPKJFFMkUkwGuGRgXzkbaomI1EpoUPniiy8wffp0pKenQ5IkvP/++yLL6VSRcr4Pp31CCvtUiIjUT2hQqaurQ0FBAV566SWRZVyS0khbwKASUvIy4gCwT4WISM10Ij986tSpmDp1qsgSLsnlkrGHjbQhSVmivIdBhYhItdijcglHztTCZncgKkKLISk8MTmUKIcTfn+6FrV2NtQSEalRUAUVu90Oq9XqdfO33e5G2rwMM3TaoPpx0SUkGQ1IM0dCZkMtEZFqBdVf3uXLl8NsNntuWVlZfv/M1v4ULksORa0NtTViCyEiog4FVVBZuHAhLBaL51ZWVub3z2xd8RPv98+iwFOCSjH7VIiIVEloM213GQwGGAyGgH1eY7MTByp4YnIoUzZ+Y1AhIlInoUGltrYWhw8f9tw/evQoCgsLkZCQgOzsbIGVtSg5ZYHDJaNPrAHp5kjR5ZAfKCMqR07XwdbYzA39iIhURujUz86dOzFy5EiMHDkSAPDwww9j5MiRWLRokciyPDwHEWbFQZIkscWQXyTGGpARFwUAKDnFhloiIrUROqIyceJEyLIssoSLUoLKSE77hLS8DDNO1TSg5JQF4wckii6HiIjaCKpm2kDzrPjJjBNaB/lXHjd+IyJSLQaVTpyptePk+ZYTk/O5NDmkKTvUFnOJMhGR6jCodKLIPZoyICkWJjZYhrTc9JagcuxsPSwNzYKrISKithhUOsFpn/ARH6NHVkJLQ+1eTv8QEakKg0onPCt+2EgbFvLdJymzT4WISF0YVDrgcsmeqZ+RPDE5LCgHFBafZFAhIlITBpUOHD1bB2ujAwadBkNSeWJyOMjnDrVERKrEoNIBZTQlN8OMCJ6YHBaUhtoT5+pRU98kuBoiIlLwr3AHBiUb8b9X9MNNl6WLLoUCxBwdgZzEaAAcVSEiUpOgOpQwUPIyzZ5NwCh85GWYcfxsPYpPWXDloCTR5RARETiiQuTRuvEbR1SIiNSCQYXITVn5s4dBhYhINRhUiNyUoHKqpgHn6thQS0SkBgwqRG6myAj07xMDgA21RERqwaBC1EYeDygkIlIVBhWiNvIyuPEbEZGaMKgQtZHHrfSJiFSFQYWojREZZkgSUG5pxJlau+hyiIjCHoMKURuxBh0baomIVIRBhegC+ZlxADj9Q0SkBgwqRBfI48ZvRESqwaBCdAFliXIJp36IiIRjUCG6wPA0EzQSUGltRLW1UXQ5RERhjacnE10gxqDDwORYHKyqxVffn8EP+idClgGXLEOW4fnaJcuQAciyDNeF19vcl6G8VnZfa/te7tdC9lyH533avnfr+3jut3kfz/u1eR/5gtd73t/rfTqpzf19xUfrMTTViCGpRiTGGgT+VogoXDGoEHUgN8OMg1W1+OXfi0SXohp9Yg0YlmbEkJSW4DI01YRBKbGIjNCKLo2IQhiDClEHZozMwKa9VahvdkIjARIkSBKgkbz/KQHQaKSW+wAkSWp5vvs5nue1vQ908F6S+73QwXu1/lOC+300HdfU1edJ7u9J0/b+BbVLACosjSitsuHEuXqcqbXjP4fs+M+hM56fk0YC+ibGeIJLyz+NyE6IhkYjCfjNEVGokWTZPRYchKxWK8xmMywWC0wmk+hyiEJWnd2Bg1U2lFbacKCy5Z+lVbZOT5mOitBicEqsJ8Bw+oiI2urO328GFSLqEVmWcbrW3hJeKtwBpsqKQ1W1sDtcHb6mT6zBE1qU0ZdByUZE6Tl9RBROGFSISBinS8axs3We0ZcDFVbP9FFH/7ZpO32khJchqSZkJ0RDy+kjopDEoEJEqlPf5MDBqlqUVlo900cHKjufPoqM0Hgad4e0mT7qw+kjoqDHoEJEQaHt9FHb/peDVbaLTB/pW8JLiglD0zh9RBSMGFSIKKhdOH1UWmlFaaUNxzuZPpKU6SP3CMywNE4fEakZgwoRhaSOpo9KK204e5Hpo8Ep3nu/DE3j9BGRaAwqRBRWTtvcq4/aBJguTx+5e18Gp3D6iChQGFSIKOw5XTKOt1191IXpo5yEaK+N6wYmx8IcHQFTZAQMOg0kidNIRL7AoEJE1In6JgcOVdW29r9UWXGgovPpI0WEVoIpMgLGSB2Mnn+2/ToCpg6uKc9j2CFq1Z2/39xCn4jCSrReh4KsOBRkxXldbzt9pOy8e/RMHWyNDgBAs1PG2bqmSwaai4nQSt4hx9DytSmKYYeoMwwqREQAkowGJBkNuGJQH6/rLpeM2iYHbI0O2Bqbvf5p7eCardEBa4P3tdomB2S5Jeycq2vqdO+Yrugs7CjXTG2/jmLYoeDHoEJEdBEaTcuUjykyAkBUj96jJ2HHK/g0NqPWLibsROm1iNBqEKHVQK/TIEIrQe/5uuVm0Hk/HqHVQK/V8GBK8gkGFSIiP/NV2KnzhJ2WIGMVGHa6QqeR2gQYDfRaySvg6HUtgSZC1xJ+vK61DUM6CQat8rXymou8X5vQZLjgcSVE6XUa7rETJBhUiIiCgEajjIJE9Pg9Ogo7SohpH25a/tnocKLZIaPJ6UKTw4VmZ8utyeFCk1P2fN3sdMHh8l6b4XDJcLicaGh29vbb9wuNhE4DjjJSpNNqoJUkSBKg1UjQSBI0GgkaCdC2/VojQZIkaCXJ/bX78Queo3Ff02rgeazleXA/z/v1re/b+rjX69s+3/1ekvua13tKEjTu13ge83yt1Amv1yvfd4xBh4QYvbDfE4MKEVGY8EXYuRiXqyXQtIQZ2RNgLgw5dof3463XXGh2uNzvIbvDUMu11vfxDkfe7936nvYLQlWzs6U2r3plwO5wdbrfDrWYXpCOP84cKezzGVSIiMgnNBoJkRotIiPUuXGeLMtodo8CtY4KXTxUNTlkyLIMpyzDJbeEMadLhktWbi179shyy3WnDM/XLhlwyW2e777mlFvvO11o817u++7nO2UZsvv9Wx9vraPlOa2f11LHBe8vy3C1+Yy2z/F8fdH3l2HQaYT+3hhUiIgoLEiSBL2upa+FgocqflsvvfQS+vbti8jISIwbNw7bt28XXRIRERGpgPCg8ve//x0PP/wwFi9ejO+++w4FBQWYMmUKqqurRZdGREREggkPKs8++yx++tOfYu7cuRg+fDheeeUVREdH489//rPo0oiIiEgwoUGlqakJu3btwuTJkz3XNBoNJk+ejG+++abd8+12O6xWq9eNiIiIQpfQoHLmzBk4nU6kpKR4XU9JSUFlZWW75y9fvhxms9lzy8rKClSpREREJIDwqZ/uWLhwISwWi+dWVlYmuiQiIiLyI6HLk/v06QOtVouqqiqv61VVVUhNTW33fIPBAIPBEKjyiIiISDChIyp6vR6jRo3C5s2bPddcLhc2b96M8ePHC6yMiIiI1ED4hm8PP/wwZs+ejdGjR2Ps2LF47rnnUFdXh7lz54oujYiIiAQTHlTuvPNOnD59GosWLUJlZSUuu+wyfPzxx+0abImIiCj8SLIsy5d+mjpZrVaYzWZYLBaYTCbR5RAREVEXdOfvd1Ct+iEiIqLwwqBCREREqsWgQkRERKolvJm2N5T2Gm6lT0REFDyUv9tdaZMN6qBis9kAgFvpExERBSGbzQaz2XzR5wT1qh+Xy4Xy8nIYjUZIkuTT97ZarcjKykJZWVlYrigK9+8f4M+A3394f/8Afwbh/v0D/vsZyLIMm82G9PR0aDQX70IJ6hEVjUaDzMxMv36GyWQK2/+BAvz+Af4M+P2H9/cP8GcQ7t8/4J+fwaVGUhRspiUiIiLVYlAhIiIi1WJQ6YTBYMDixYvD9rTmcP/+Af4M+P2H9/cP8GcQ7t8/oI6fQVA30xIREVFo44gKERERqRaDChEREakWgwoRERGpFoMKERERqRaDSgdeeukl9O3bF5GRkRg3bhy2b98uuqSA+eKLLzB9+nSkp6dDkiS8//77oksKqOXLl2PMmDEwGo1ITk7GzTffjNLSUtFlBdTKlSuRn5/v2eBp/Pjx2LBhg+iyhFmxYgUkScJDDz0kupSAWLJkCSRJ8roNHTpUdFkBd+rUKdx9991ITExEVFQU8vLysHPnTtFlBUTfvn3b/W9AkiTMmzdPSD0MKhf4+9//jocffhiLFy/Gd999h4KCAkyZMgXV1dWiSwuIuro6FBQU4KWXXhJdihBbt27FvHnzsG3bNmzatAnNzc247rrrUFdXJ7q0gMnMzMSKFSuwa9cu7Ny5E9dccw1uuukm7N27V3RpAbdjxw68+uqryM/PF11KQI0YMQIVFRWe25dffim6pIA6f/48JkyYgIiICGzYsAH79u3DM888g/j4eNGlBcSOHTu8fv+bNm0CANx+++1iCpLJy9ixY+V58+Z57judTjk9PV1evny5wKrEACCvW7dOdBlCVVdXywDkrVu3ii5FqPj4ePlPf/qT6DICymazyYMGDZI3bdokX3311fKDDz4ouqSAWLx4sVxQUCC6DKEeeeQR+YorrhBdhmo8+OCD8oABA2SXyyXk8zmi0kZTUxN27dqFyZMne65pNBpMnjwZ33zzjcDKSBSLxQIASEhIEFyJGE6nE2vXrkVdXR3Gjx8vupyAmjdvHqZNm+b174NwcejQIaSnp6N///6YNWsWTpw4IbqkgFq/fj1Gjx6N22+/HcnJyRg5ciRee+010WUJ0dTUhL/97W+45557fH74b1cxqLRx5swZOJ1OpKSkeF1PSUlBZWWloKpIFJfLhYceeggTJkxAbm6u6HICqri4GLGxsTAYDLj33nuxbt06DB8+XHRZAbN27Vp89913WL58uehSAm7cuHFYs2YNPv74Y6xcuRJHjx7FlVdeCZvNJrq0gDly5AhWrlyJQYMGYePGjbjvvvvwwAMP4C9/+Yvo0gLu/fffR01NDebMmSOshqA+PZnIn+bNm4eSkpKwm58HgCFDhqCwsBAWiwXvvvsuZs+eja1bt4ZFWCkrK8ODDz6ITZs2ITIyUnQ5ATd16lTP1/n5+Rg3bhxycnLwzjvv4H/+538EVhY4LpcLo0ePxpNPPgkAGDlyJEpKSvDKK69g9uzZgqsLrNdffx1Tp05Fenq6sBo4otJGnz59oNVqUVVV5XW9qqoKqampgqoiEebPn48PP/wQn3/+OTIzM0WXE3B6vR4DBw7EqFGjsHz5chQUFOD5558XXVZA7Nq1C9XV1bj88suh0+mg0+mwdetWvPDCC9DpdHA6naJLDKi4uDgMHjwYhw8fFl1KwKSlpbUL5cOGDQu7KbDjx4/j008/xf/+7/8KrYNBpQ29Xo9Ro0Zh8+bNnmsulwubN28Ou/n5cCXLMubPn49169bhs88+Q79+/USXpAoulwt2u110GQExadIkFBcXo7Cw0HMbPXo0Zs2ahcLCQmi1WtElBlRtbS2+//57pKWliS4lYCZMmNBuW4KDBw8iJydHUEVirF69GsnJyZg2bZrQOjj1c4GHH34Ys2fPxujRozF27Fg899xzqKurw9y5c0WXFhC1tbVe/+V09OhRFBYWIiEhAdnZ2QIrC4x58+bhrbfewgcffACj0ejpTTKbzYiKihJcXWAsXLgQU6dORXZ2Nmw2G9566y1s2bIFGzduFF1aQBiNxnY9STExMUhMTAyLXqUFCxZg+vTpyMnJQXl5ORYvXgytVouZM2eKLi1gfvnLX+KHP/whnnzySdxxxx3Yvn07Vq1ahVWrVokuLWBcLhdWr16N2bNnQ6cTHBWErDVSuT/+8Y9ydna2rNfr5bFjx8rbtm0TXVLAfP755zKAdrfZs2eLLi0gOvreAcirV68WXVrA3HPPPXJOTo6s1+vlpKQkedKkSfInn3wiuiyhwml58p133imnpaXJer1ezsjIkO+880758OHDossKuH/9619ybm6ubDAY5KFDh8qrVq0SXVJAbdy4UQYgl5aWii5FlmRZlsVEJCIiIqKLY48KERERqRaDChEREakWgwoRERGpFoMKERERqRaDChEREakWgwoRERGpFoMKERERqRaDChGFFEmS8P7774sug4h8hEGFiHxmzpw5kCSp3e36668XXRoRBSme9UNEPnX99ddj9erVXtcMBoOgaogo2HFEhYh8ymAwIDU11esWHx8PoGVaZuXKlZg6dSqioqLQv39/vPvuu16vLy4uxjXXXIOoqCgkJibiZz/7GWpra72e8+c//xkjRoyAwWBAWloa5s+f7/X4mTNnMGPGDERHR2PQoEFYv369f79pIvIbBhUiCqjHHnsMt956K4qKijBr1izcdddd2L9/PwCgrq4OU6ZMQXx8PHbs2IF//OMf+PTTT72CyMqVKzFv3jz87Gc/Q3FxMdavX4+BAwd6fcbSpUtxxx13YM+ePbjhhhswa9YsnDt3LqDfJxH5iOhTEYkodMyePVvWarVyTEyM1+2JJ56QZbnldOp7773X6zXjxo2T77vvPlmWZXnVqlVyfHy8XFtb63n83//+t6zRaOTKykpZlmU5PT1dfvTRRzutAYD829/+1nO/trZWBiBv2LDBZ98nEQUOe1SIyKd+9KMfYeXKlV7XEhISPF+PHz/e67Hx48ejsLAQALB//34UFBQgJibG8/iECRPgcrlQWloKSZJQXl6OSZMmXbSG/Px8z9cxMTEwmUyorq7u6bdERAIxqBCRT8XExLSbivGVqKioLj0vIiLC674kSXC5XP4oiYj8jD0qRBRQ27Zta3d/2LBhAIBhw4ahqKgIdXV1nse/+uoraDQaDBkyBEajEX379sXmzZsDWjMRicMRFSLyKbvdjsrKSq9rOp0Offr0AQD84x//wOjRo3HFFVfgzTffxPbt2/H6668DAGbNmoXFixdj9uzZWLJkCU6fPo1f/OIX+PGPf4yUlBQAwJIlS3DvvfciOTkZU6dOhc1mw1dffYVf/OIXgf1GiSggGFSIyKc+/vhjpKWleV0bMmQIDhw4AKBlRc7atWtx//33Iy0tDW+//TaGDx8OAIiOjsbGjRvx4IMPYsyYMYiOjsatt96KZ5991vNes2fPRmNjI/7whz9gwYIF6NOnD2677bbAfYNEFFCSLMuy6CKIKDxIkoR169bh5ptvFl0KEQUJ9qgQERGRajGoEBERkWqxR4WIAoYzzUTUXRxRISIiItViUCEiIiLVYlAhIiIi1WJQISIiItViUCEiIiLVYlAhIiIi1WJQISIiItViUCEiIiLVYlAhIiIi1fp/XZp/TT+2cVsAAAAASUVORK5CYII=\n"
          },
          "metadata": {}
        },
        {
          "output_type": "display_data",
          "data": {
            "text/plain": [
              "<Figure size 640x480 with 1 Axes>"
            ],
            "image/png": "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\n"
          },
          "metadata": {}
        },
        {
          "output_type": "stream",
          "name": "stderr",
          "text": [
            "/tmp/ipython-input-3751370865.py:22: FutureWarning: `torch.cuda.amp.autocast(args...)` is deprecated. Please use `torch.amp.autocast('cuda', args...)` instead.\n",
            "  with torch.cuda.amp.autocast(enabled=(DEVICE=='cuda')):\n"
          ]
        },
        {
          "output_type": "stream",
          "name": "stdout",
          "text": [
            "Classes: ['NORMAL', 'PNEUMONIA']\n",
            "              precision    recall  f1-score   support\n",
            "\n",
            "      NORMAL       0.89      0.53      0.66       234\n",
            "   PNEUMONIA       0.77      0.96      0.86       390\n",
            "\n",
            "    accuracy                           0.80       624\n",
            "   macro avg       0.83      0.75      0.76       624\n",
            "weighted avg       0.82      0.80      0.79       624\n",
            "\n",
            "Confusion Matrix:\\n [[124 110]\n",
            " [ 15 375]]\n"
          ]
        },
        {
          "output_type": "display_data",
          "data": {
            "text/plain": [
              "<Figure size 640x480 with 2 Axes>"
            ],
            "image/png": "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\n"
          },
          "metadata": {}
        },
        {
          "output_type": "stream",
          "name": "stdout",
          "text": [
            "ROC AUC: 0.9199539776462853\n"
          ]
        },
        {
          "output_type": "display_data",
          "data": {
            "text/plain": [
              "<Figure size 640x480 with 1 Axes>"
            ],
            "image/png": "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\n"
          },
          "metadata": {}
        }
      ]
    },
    {
      "cell_type": "code",
      "source": [],
      "metadata": {
        "id": "q95ZoEJvaVOj"
      },
      "execution_count": null,
      "outputs": []
    }
  ],
  "metadata": {
    "accelerator": "GPU",
    "colab": {
      "gpuType": "T4",
      "provenance": []
    },
    "kernelspec": {
      "display_name": "Python 3",
      "name": "python3"
    },
    "language_info": {
      "name": "python"
    },
  },
  "nbformat": 4,
  "nbformat_minor": 0
}
